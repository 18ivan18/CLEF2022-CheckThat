{
  "cells": [
    {
      "cell_type": "markdown",
      "metadata": {
        "colab_type": "text",
        "id": "view-in-github"
      },
      "source": [
        "<a href=\"https://colab.research.google.com/github/18ivan18/CLEF2022-CheckThat/blob/main/CLEF2022Task1.ipynb\" target=\"_parent\"><img src=\"https://colab.research.google.com/assets/colab-badge.svg\" alt=\"Open In Colab\"/></a>"
      ]
    },
    {
      "cell_type": "code",
      "execution_count": 151,
      "metadata": {
        "id": "k9QeYxj12Wmc"
      },
      "outputs": [],
      "source": [
        "!pip install transformers -q\n",
        "\n",
        "import transformers\n",
        "from transformers import BertModel, BertTokenizerFast # base bert\n",
        "from transformers import AutoModel, AutoTokenizer  # bertweet\n",
        "from transformers import RobertaTokenizer, RobertaConfig, RobertaModel, RobertaTokenizerFast  # roberta\n",
        "\n",
        "\n",
        "import torch\n",
        "import torch.nn as nn\n",
        "from tqdm import tqdm\n",
        "\n",
        "import pandas as pd\n",
        "\n",
        "import numpy as np"
      ]
    },
    {
      "cell_type": "code",
      "execution_count": 152,
      "metadata": {
        "colab": {
          "base_uri": "https://localhost:8080/",
          "height": 35
        },
        "id": "aoLPuvyLFrE2",
        "outputId": "95398956-fe5e-4b0a-b87c-5ed1c2a53aee"
      },
      "outputs": [
        {
          "data": {
            "application/vnd.google.colaboratory.intrinsic+json": {
              "type": "string"
            },
            "text/plain": [
              "'cuda'"
            ]
          },
          "execution_count": 152,
          "metadata": {},
          "output_type": "execute_result"
        }
      ],
      "source": [
        "use_cuda=torch.cuda.is_available()\n",
        "device = 'cuda' if use_cuda else 'cpu'\n",
        "device"
      ]
    },
    {
      "cell_type": "markdown",
      "metadata": {
        "id": "7-w6YixOgSRn"
      },
      "source": [
        "# [CLEF2022-CheckThat!](https://sites.google.com/view/clef2022-checkthat/home)\n",
        "## [Task 1: Identifying Relevant Claims in Tweets](https://sites.google.com/view/clef2022-checkthat/tasks/task-1-identifying-relevant-claims-in-tweets)\n",
        "\n",
        "**Subtask 1A:** Check-worthiness of tweets: Given a tweet, predict whether it is worth fact-checking. This task is defined with binary labels: Yes and No.. This is a classification task. This subtasks runs in 6 languages:\n",
        "\n",
        "- Arabic\n",
        "- Bulgarian\n",
        "- Dutch\n",
        "- English\n",
        "- Spanish\n",
        "- Turkish\n",
        "\n",
        "In this task I'll focus on English and Bulgarian only throughout all subtasks. English as the most popular language and presumably the models are best fitted for it, and Bulgarian as my native language.  "
      ]
    },
    {
      "cell_type": "markdown",
      "metadata": {
        "id": "nSwIn6Z3ipAH"
      },
      "source": [
        "## First let's download the data and run the baseline.\n"
      ]
    },
    {
      "cell_type": "code",
      "execution_count": 115,
      "metadata": {
        "colab": {
          "base_uri": "https://localhost:8080/"
        },
        "id": "CiTwr25XqHaE",
        "outputId": "91d8f441-cb4a-439d-e6d8-d4a2426bca7f"
      },
      "outputs": [
        {
          "name": "stdout",
          "output_type": "stream",
          "text": [
            "fatal: destination path 'clef2022-checkthat-lab' already exists and is not an empty directory.\n"
          ]
        }
      ],
      "source": [
        "!git clone https://gitlab.com/checkthat_lab/clef2022-checkthat-lab/clef2022-checkthat-lab.git"
      ]
    },
    {
      "cell_type": "code",
      "execution_count": 153,
      "metadata": {
        "id": "NBcKn7v3G1Fp"
      },
      "outputs": [],
      "source": [
        "import zipfile\n",
        "\n",
        "data_directory_name=\"data/\"\n",
        "# Unzip target file\n",
        "def unzip(filename):\n",
        "  with zipfile.ZipFile(filename, mode=\"r\") as archive:\n",
        "     archive.extractall(data_directory_name)\n",
        "\n",
        "def prepare_data(lang, subtask, subtask_id):\n",
        "  unzip(f'/content/clef2022-checkthat-lab/task1/data/subtasks-{lang}/test/CT22_{lang}_{subtask_id}_{subtask}_test.zip')\n",
        "  unzip(f'/content/clef2022-checkthat-lab/task1/data/subtasks-{lang}/CT22_{lang}_{subtask_id}_{subtask}.zip')\n",
        "  unzip(f'/content/clef2022-checkthat-lab/task1/data/subtasks-{lang}/test/CT22_{lang}_{subtask_id}_{subtask}_test_gold.zip')\n",
        "  \n",
        "  df_train = pd.read_csv(f'/content/data/CT22_{lang}_{subtask_id}_{subtask}_train.tsv', sep='\\t')\n",
        "  df_train = pd.DataFrame({\n",
        "        'text' : df_train['tweet_text'],\n",
        "        'label' : df_train['class_label']\n",
        "  })\n",
        "\n",
        "  df_valid = pd.read_csv(f'/content/data/CT22_{lang}_{subtask_id}_{subtask}_dev.tsv', sep='\\t')\n",
        "  df_valid = pd.DataFrame({\n",
        "      'text' : df_valid['tweet_text'],\n",
        "      'label' : df_valid['class_label']\n",
        "  })\n",
        "\n",
        "  df_test = pd.read_csv(f'/content/data/CT22_{lang}_{subtask_id}_{subtask}_test.tsv', sep='\\t')\n",
        "  return df_train, df_valid, df_test\n"
      ]
    },
    {
      "cell_type": "code",
      "execution_count": 154,
      "metadata": {
        "id": "Mwjhb0CeIA-t"
      },
      "outputs": [],
      "source": [
        "lang='english'\n",
        "subtask='checkworthy'\n",
        "subtask_id='1A'\n",
        "results_fpath=f'data/subtask{subtask_id}_{subtask}_{lang}.tsv'\n",
        "run_id='izarabadzh'"
      ]
    },
    {
      "cell_type": "code",
      "execution_count": 155,
      "metadata": {
        "colab": {
          "base_uri": "https://localhost:8080/"
        },
        "id": "SeO6ohCeIB9s",
        "outputId": "0f3c86c6-3330-41eb-c4e1-28abca5bd888"
      },
      "outputs": [
        {
          "data": {
            "text/plain": [
              "defaultdict(None, {0: 0, 1: 1})"
            ]
          },
          "execution_count": 155,
          "metadata": {},
          "output_type": "execute_result"
        }
      ],
      "source": [
        "from collections import defaultdict\n",
        "\n",
        "df_train, df_valid, df_test = prepare_data(lang, subtask, subtask_id)\n",
        "\n",
        "def encode_labels(labels):\n",
        "  i = 0\n",
        "  labels_dict = defaultdict()\n",
        "  for label in labels.unique():\n",
        "      labels_dict[label] = i\n",
        "      i += 1\n",
        "  return labels_dict\n",
        "    \n",
        "encode_labels(df_train['label'])"
      ]
    },
    {
      "cell_type": "code",
      "execution_count": 156,
      "metadata": {
        "colab": {
          "base_uri": "https://localhost:8080/"
        },
        "id": "V8F1UrHzv5en",
        "outputId": "e777cfd6-f151-42f2-d2ca-6b5d2abe3cbd"
      },
      "outputs": [
        {
          "data": {
            "text/plain": [
              "{0: 0, 1: 1}"
            ]
          },
          "execution_count": 156,
          "metadata": {},
          "output_type": "execute_result"
        }
      ],
      "source": [
        "def inverse_dict(dict):\n",
        "  return {v: k for k, v in dict.items()}\n",
        "inverse_dict(encode_labels(df_train['label']))"
      ]
    },
    {
      "cell_type": "code",
      "execution_count": 157,
      "metadata": {
        "colab": {
          "base_uri": "https://localhost:8080/",
          "height": 206
        },
        "id": "mslZbwUHlKE3",
        "outputId": "adbfdeb1-865b-4a85-d317-ad2139da9bf4"
      },
      "outputs": [
        {
          "data": {
            "text/html": [
              "\n",
              "  <div id=\"df-ec466bf2-362d-4818-b94d-ce951fd76c56\">\n",
              "    <div class=\"colab-df-container\">\n",
              "      <div>\n",
              "<style scoped>\n",
              "    .dataframe tbody tr th:only-of-type {\n",
              "        vertical-align: middle;\n",
              "    }\n",
              "\n",
              "    .dataframe tbody tr th {\n",
              "        vertical-align: top;\n",
              "    }\n",
              "\n",
              "    .dataframe thead th {\n",
              "        text-align: right;\n",
              "    }\n",
              "</style>\n",
              "<table border=\"1\" class=\"dataframe\">\n",
              "  <thead>\n",
              "    <tr style=\"text-align: right;\">\n",
              "      <th></th>\n",
              "      <th>text</th>\n",
              "      <th>label</th>\n",
              "    </tr>\n",
              "  </thead>\n",
              "  <tbody>\n",
              "    <tr>\n",
              "      <th>0</th>\n",
              "      <td>India's gift of 100,000 COVID-19 vaccines arri...</td>\n",
              "      <td>0</td>\n",
              "    </tr>\n",
              "    <tr>\n",
              "      <th>1</th>\n",
              "      <td>As part of the ongoing nationwide vaccination ...</td>\n",
              "      <td>0</td>\n",
              "    </tr>\n",
              "    <tr>\n",
              "      <th>2</th>\n",
              "      <td>Pleased to receive 50,000 doses of Covid-19 va...</td>\n",
              "      <td>0</td>\n",
              "    </tr>\n",
              "    <tr>\n",
              "      <th>3</th>\n",
              "      <td>Four former presidents have banded together fo...</td>\n",
              "      <td>0</td>\n",
              "    </tr>\n",
              "    <tr>\n",
              "      <th>4</th>\n",
              "      <td>WSJ: All three of Russia's main intelligence s...</td>\n",
              "      <td>1</td>\n",
              "    </tr>\n",
              "  </tbody>\n",
              "</table>\n",
              "</div>\n",
              "      <button class=\"colab-df-convert\" onclick=\"convertToInteractive('df-ec466bf2-362d-4818-b94d-ce951fd76c56')\"\n",
              "              title=\"Convert this dataframe to an interactive table.\"\n",
              "              style=\"display:none;\">\n",
              "        \n",
              "  <svg xmlns=\"http://www.w3.org/2000/svg\" height=\"24px\"viewBox=\"0 0 24 24\"\n",
              "       width=\"24px\">\n",
              "    <path d=\"M0 0h24v24H0V0z\" fill=\"none\"/>\n",
              "    <path d=\"M18.56 5.44l.94 2.06.94-2.06 2.06-.94-2.06-.94-.94-2.06-.94 2.06-2.06.94zm-11 1L8.5 8.5l.94-2.06 2.06-.94-2.06-.94L8.5 2.5l-.94 2.06-2.06.94zm10 10l.94 2.06.94-2.06 2.06-.94-2.06-.94-.94-2.06-.94 2.06-2.06.94z\"/><path d=\"M17.41 7.96l-1.37-1.37c-.4-.4-.92-.59-1.43-.59-.52 0-1.04.2-1.43.59L10.3 9.45l-7.72 7.72c-.78.78-.78 2.05 0 2.83L4 21.41c.39.39.9.59 1.41.59.51 0 1.02-.2 1.41-.59l7.78-7.78 2.81-2.81c.8-.78.8-2.07 0-2.86zM5.41 20L4 18.59l7.72-7.72 1.47 1.35L5.41 20z\"/>\n",
              "  </svg>\n",
              "      </button>\n",
              "      \n",
              "  <style>\n",
              "    .colab-df-container {\n",
              "      display:flex;\n",
              "      flex-wrap:wrap;\n",
              "      gap: 12px;\n",
              "    }\n",
              "\n",
              "    .colab-df-convert {\n",
              "      background-color: #E8F0FE;\n",
              "      border: none;\n",
              "      border-radius: 50%;\n",
              "      cursor: pointer;\n",
              "      display: none;\n",
              "      fill: #1967D2;\n",
              "      height: 32px;\n",
              "      padding: 0 0 0 0;\n",
              "      width: 32px;\n",
              "    }\n",
              "\n",
              "    .colab-df-convert:hover {\n",
              "      background-color: #E2EBFA;\n",
              "      box-shadow: 0px 1px 2px rgba(60, 64, 67, 0.3), 0px 1px 3px 1px rgba(60, 64, 67, 0.15);\n",
              "      fill: #174EA6;\n",
              "    }\n",
              "\n",
              "    [theme=dark] .colab-df-convert {\n",
              "      background-color: #3B4455;\n",
              "      fill: #D2E3FC;\n",
              "    }\n",
              "\n",
              "    [theme=dark] .colab-df-convert:hover {\n",
              "      background-color: #434B5C;\n",
              "      box-shadow: 0px 1px 3px 1px rgba(0, 0, 0, 0.15);\n",
              "      filter: drop-shadow(0px 1px 2px rgba(0, 0, 0, 0.3));\n",
              "      fill: #FFFFFF;\n",
              "    }\n",
              "  </style>\n",
              "\n",
              "      <script>\n",
              "        const buttonEl =\n",
              "          document.querySelector('#df-ec466bf2-362d-4818-b94d-ce951fd76c56 button.colab-df-convert');\n",
              "        buttonEl.style.display =\n",
              "          google.colab.kernel.accessAllowed ? 'block' : 'none';\n",
              "\n",
              "        async function convertToInteractive(key) {\n",
              "          const element = document.querySelector('#df-ec466bf2-362d-4818-b94d-ce951fd76c56');\n",
              "          const dataTable =\n",
              "            await google.colab.kernel.invokeFunction('convertToInteractive',\n",
              "                                                     [key], {});\n",
              "          if (!dataTable) return;\n",
              "\n",
              "          const docLinkHtml = 'Like what you see? Visit the ' +\n",
              "            '<a target=\"_blank\" href=https://colab.research.google.com/notebooks/data_table.ipynb>data table notebook</a>'\n",
              "            + ' to learn more about interactive tables.';\n",
              "          element.innerHTML = '';\n",
              "          dataTable['output_type'] = 'display_data';\n",
              "          await google.colab.output.renderOutput(dataTable, element);\n",
              "          const docLink = document.createElement('div');\n",
              "          docLink.innerHTML = docLinkHtml;\n",
              "          element.appendChild(docLink);\n",
              "        }\n",
              "      </script>\n",
              "    </div>\n",
              "  </div>\n",
              "  "
            ],
            "text/plain": [
              "                                                text  label\n",
              "0  India's gift of 100,000 COVID-19 vaccines arri...      0\n",
              "1  As part of the ongoing nationwide vaccination ...      0\n",
              "2  Pleased to receive 50,000 doses of Covid-19 va...      0\n",
              "3  Four former presidents have banded together fo...      0\n",
              "4  WSJ: All three of Russia's main intelligence s...      1"
            ]
          },
          "execution_count": 157,
          "metadata": {},
          "output_type": "execute_result"
        }
      ],
      "source": [
        "df_train.head()"
      ]
    },
    {
      "cell_type": "code",
      "execution_count": 158,
      "metadata": {
        "colab": {
          "base_uri": "https://localhost:8080/",
          "height": 293
        },
        "id": "hvBqptpsiQpz",
        "outputId": "57b0a48b-6ee8-4bf0-a225-1714c2d71f97"
      },
      "outputs": [
        {
          "data": {
            "text/plain": [
              "<matplotlib.axes._subplots.AxesSubplot at 0x7f42a3e5d5d0>"
            ]
          },
          "execution_count": 158,
          "metadata": {},
          "output_type": "execute_result"
        },
        {
          "data": {
            "image/png": "[encoded data removed]",
            "text/plain": [
              "<Figure size 432x288 with 1 Axes>"
            ]
          },
          "metadata": {
            "needs_background": "light"
          },
          "output_type": "display_data"
        }
      ],
      "source": [
        "df_train.groupby(['label']).size().plot.bar()"
      ]
    },
    {
      "cell_type": "code",
      "execution_count": 159,
      "metadata": {
        "colab": {
          "base_uri": "https://localhost:8080/",
          "height": 206
        },
        "id": "aHpqAgo3T_s6",
        "outputId": "93265be7-bf0c-47c8-cc20-f92ab1874c18"
      },
      "outputs": [
        {
          "data": {
            "text/html": [
              "\n",
              "  <div id=\"df-7e2d1b66-0c3a-4760-acec-a6f5518d78fe\">\n",
              "    <div class=\"colab-df-container\">\n",
              "      <div>\n",
              "<style scoped>\n",
              "    .dataframe tbody tr th:only-of-type {\n",
              "        vertical-align: middle;\n",
              "    }\n",
              "\n",
              "    .dataframe tbody tr th {\n",
              "        vertical-align: top;\n",
              "    }\n",
              "\n",
              "    .dataframe thead th {\n",
              "        text-align: right;\n",
              "    }\n",
              "</style>\n",
              "<table border=\"1\" class=\"dataframe\">\n",
              "  <thead>\n",
              "    <tr style=\"text-align: right;\">\n",
              "      <th></th>\n",
              "      <th>text</th>\n",
              "      <th>label</th>\n",
              "    </tr>\n",
              "  </thead>\n",
              "  <tbody>\n",
              "    <tr>\n",
              "      <th>0</th>\n",
              "      <td>Native American communities have been hit hard...</td>\n",
              "      <td>0</td>\n",
              "    </tr>\n",
              "    <tr>\n",
              "      <th>1</th>\n",
              "      <td>ALERT: CVS Pharmacy is now offering COVID-19 v...</td>\n",
              "      <td>0</td>\n",
              "    </tr>\n",
              "    <tr>\n",
              "      <th>2</th>\n",
              "      <td>#COVID19 vaccines are an important tool to hel...</td>\n",
              "      <td>0</td>\n",
              "    </tr>\n",
              "    <tr>\n",
              "      <th>3</th>\n",
              "      <td>Pfizer reports that IRL the vaccine is 97% eff...</td>\n",
              "      <td>0</td>\n",
              "    </tr>\n",
              "    <tr>\n",
              "      <th>4</th>\n",
              "      <td>Vaccines are complex medicines. Europeans can ...</td>\n",
              "      <td>0</td>\n",
              "    </tr>\n",
              "  </tbody>\n",
              "</table>\n",
              "</div>\n",
              "      <button class=\"colab-df-convert\" onclick=\"convertToInteractive('df-7e2d1b66-0c3a-4760-acec-a6f5518d78fe')\"\n",
              "              title=\"Convert this dataframe to an interactive table.\"\n",
              "              style=\"display:none;\">\n",
              "        \n",
              "  <svg xmlns=\"http://www.w3.org/2000/svg\" height=\"24px\"viewBox=\"0 0 24 24\"\n",
              "       width=\"24px\">\n",
              "    <path d=\"M0 0h24v24H0V0z\" fill=\"none\"/>\n",
              "    <path d=\"M18.56 5.44l.94 2.06.94-2.06 2.06-.94-2.06-.94-.94-2.06-.94 2.06-2.06.94zm-11 1L8.5 8.5l.94-2.06 2.06-.94-2.06-.94L8.5 2.5l-.94 2.06-2.06.94zm10 10l.94 2.06.94-2.06 2.06-.94-2.06-.94-.94-2.06-.94 2.06-2.06.94z\"/><path d=\"M17.41 7.96l-1.37-1.37c-.4-.4-.92-.59-1.43-.59-.52 0-1.04.2-1.43.59L10.3 9.45l-7.72 7.72c-.78.78-.78 2.05 0 2.83L4 21.41c.39.39.9.59 1.41.59.51 0 1.02-.2 1.41-.59l7.78-7.78 2.81-2.81c.8-.78.8-2.07 0-2.86zM5.41 20L4 18.59l7.72-7.72 1.47 1.35L5.41 20z\"/>\n",
              "  </svg>\n",
              "      </button>\n",
              "      \n",
              "  <style>\n",
              "    .colab-df-container {\n",
              "      display:flex;\n",
              "      flex-wrap:wrap;\n",
              "      gap: 12px;\n",
              "    }\n",
              "\n",
              "    .colab-df-convert {\n",
              "      background-color: #E8F0FE;\n",
              "      border: none;\n",
              "      border-radius: 50%;\n",
              "      cursor: pointer;\n",
              "      display: none;\n",
              "      fill: #1967D2;\n",
              "      height: 32px;\n",
              "      padding: 0 0 0 0;\n",
              "      width: 32px;\n",
              "    }\n",
              "\n",
              "    .colab-df-convert:hover {\n",
              "      background-color: #E2EBFA;\n",
              "      box-shadow: 0px 1px 2px rgba(60, 64, 67, 0.3), 0px 1px 3px 1px rgba(60, 64, 67, 0.15);\n",
              "      fill: #174EA6;\n",
              "    }\n",
              "\n",
              "    [theme=dark] .colab-df-convert {\n",
              "      background-color: #3B4455;\n",
              "      fill: #D2E3FC;\n",
              "    }\n",
              "\n",
              "    [theme=dark] .colab-df-convert:hover {\n",
              "      background-color: #434B5C;\n",
              "      box-shadow: 0px 1px 3px 1px rgba(0, 0, 0, 0.15);\n",
              "      filter: drop-shadow(0px 1px 2px rgba(0, 0, 0, 0.3));\n",
              "      fill: #FFFFFF;\n",
              "    }\n",
              "  </style>\n",
              "\n",
              "      <script>\n",
              "        const buttonEl =\n",
              "          document.querySelector('#df-7e2d1b66-0c3a-4760-acec-a6f5518d78fe button.colab-df-convert');\n",
              "        buttonEl.style.display =\n",
              "          google.colab.kernel.accessAllowed ? 'block' : 'none';\n",
              "\n",
              "        async function convertToInteractive(key) {\n",
              "          const element = document.querySelector('#df-7e2d1b66-0c3a-4760-acec-a6f5518d78fe');\n",
              "          const dataTable =\n",
              "            await google.colab.kernel.invokeFunction('convertToInteractive',\n",
              "                                                     [key], {});\n",
              "          if (!dataTable) return;\n",
              "\n",
              "          const docLinkHtml = 'Like what you see? Visit the ' +\n",
              "            '<a target=\"_blank\" href=https://colab.research.google.com/notebooks/data_table.ipynb>data table notebook</a>'\n",
              "            + ' to learn more about interactive tables.';\n",
              "          element.innerHTML = '';\n",
              "          dataTable['output_type'] = 'display_data';\n",
              "          await google.colab.output.renderOutput(dataTable, element);\n",
              "          const docLink = document.createElement('div');\n",
              "          docLink.innerHTML = docLinkHtml;\n",
              "          element.appendChild(docLink);\n",
              "        }\n",
              "      </script>\n",
              "    </div>\n",
              "  </div>\n",
              "  "
            ],
            "text/plain": [
              "                                                text  label\n",
              "0  Native American communities have been hit hard...      0\n",
              "1  ALERT: CVS Pharmacy is now offering COVID-19 v...      0\n",
              "2  #COVID19 vaccines are an important tool to hel...      0\n",
              "3  Pfizer reports that IRL the vaccine is 97% eff...      0\n",
              "4  Vaccines are complex medicines. Europeans can ...      0"
            ]
          },
          "execution_count": 159,
          "metadata": {},
          "output_type": "execute_result"
        }
      ],
      "source": [
        "df_valid.head()"
      ]
    },
    {
      "cell_type": "markdown",
      "metadata": {
        "id": "S5i8IzVt65v9"
      },
      "source": [
        "## Baseline.\n",
        "Here we just use the script provided by the creators of CLEF.\n",
        "\n",
        "```\n",
        "#python -t /home/bjit/Nandi-AI/NLP/clef2022-checkthat-lab/task1/data/subtasks-english/CT22_english_1B_claim/CT22_english_1B_claim_train.tsv -d /home/bjit/Nandi-AI/NLP/clef2022-checkthat-lab/task1/data/subtasks-english/CT22_english_1B_claim/CT22_english_1B_claim_dev.tsv -l english -a claim\n",
        "```\n",
        "\n",
        "Majority Baseline for Subtask-checkworthy--english F1 (positive class): 0.0\n",
        "\n",
        "Random Baseline for Subtask-checkworthy--english F1 (positive class): 0.23376623376623376  \n",
        "\n",
        "Ngram Baseline for Subtask-checkworthy--english F1 (positive class): 0.34615384615384615"
      ]
    },
    {
      "cell_type": "code",
      "execution_count": 160,
      "metadata": {
        "colab": {
          "base_uri": "https://localhost:8080/"
        },
        "id": "aZOhZymTOUeM",
        "outputId": "3790d613-a249-4881-bb0b-71b7f5eb61c3"
      },
      "outputs": [
        {
          "data": {
            "text/plain": [
              "(2122,)"
            ]
          },
          "execution_count": 160,
          "metadata": {},
          "output_type": "execute_result"
        }
      ],
      "source": [
        "# train data\n",
        "df_train['label'].shape"
      ]
    },
    {
      "cell_type": "code",
      "execution_count": 194,
      "metadata": {
        "id": "9ariTRz1Jdyf"
      },
      "outputs": [],
      "source": [
        "from enum import Enum\n",
        "\n",
        "class ModelName(Enum):\n",
        "     BERT = 'Bert'\n",
        "     BERTWEET = 'Bertweet'\n",
        "     ROBERTA = 'Roberta'\n",
        "\n",
        "class Language(Enum):\n",
        "     BULGARIAN = 'bulgarian'\n",
        "     ENGLISH = 'english'\n",
        "     SPANISH = 'spanish'\n",
        "     TURKISH = 'turkish'\n",
        "     DUTCH = 'dutch'\n",
        "     ARABIC = 'arabic'\n",
        "     \n",
        "     \n",
        "model_name: ModelName = ModelName.BERT\n",
        "language_name: Language = Language.ENGLISH"
      ]
    },
    {
      "cell_type": "code",
      "execution_count": 187,
      "metadata": {
        "colab": {
          "base_uri": "https://localhost:8080/"
        },
        "id": "wrCajFuMyBP8",
        "outputId": "981bd444-b5f4-4f13-aa92-358cd947ec8c"
      },
      "outputs": [
        {
          "data": {
            "text/plain": [
              "PreTrainedTokenizer(name_or_path='bert-base-cased', vocab_size=28996, model_max_len=512, is_fast=False, padding_side='right', truncation_side='right', special_tokens={'unk_token': '[UNK]', 'sep_token': '[SEP]', 'pad_token': '[PAD]', 'cls_token': '[CLS]', 'mask_token': '[MASK]'})"
            ]
          },
          "execution_count": 187,
          "metadata": {},
          "output_type": "execute_result"
        }
      ],
      "source": [
        "\"\"\"This contains various tokenizer, uncomment and use the tokenizer as per the model requirement\"\"\"\n",
        "\n",
        "def get_tokenizer(model_name: ModelName):\n",
        "  if model_name==ModelName.BERT:\n",
        "    if language_name==Language.ENGLISH:\n",
        "      return BertTokenizer.from_pretrained(\"bert-base-cased\")\n",
        "    else:\n",
        "      return BertTokenizer.from_pretrained(\"bert-base-multilingual-cased\")\n",
        "  if model_name==ModelName.BERTWEET:\n",
        "    return AutoTokenizer.from_pretrained(\"vinai/bertweet-base\")\n",
        "  if model_name==ModelName.ROBERTA:\n",
        "    return RobertaTokenizerFast.from_pretrained(\"roberta-base\")\n",
        "\n",
        "tokenizer=get_tokenizer(model_name)\n",
        "tokenizer"
      ]
    },
    {
      "cell_type": "code",
      "execution_count": 164,
      "metadata": {
        "id": "_ZoVLdMlZqC_"
      },
      "outputs": [],
      "source": [
        "class Dataset(torch.utils.data.Dataset):\n",
        "\n",
        "    def __init__(self, df):\n",
        "\n",
        "        labels = encode_labels(df['label'])\n",
        "        self.labels = [labels[label] for label in df['label']]\n",
        "        self.texts = [tokenizer(text, \n",
        "                               padding='max_length', max_length=512, truncation=True,\n",
        "                                return_tensors=\"pt\") for text in df['text']]\n",
        "\n",
        "    def classes(self):\n",
        "        return self.labels\n",
        "\n",
        "    def __len__(self):\n",
        "        return len(self.labels)\n",
        "\n",
        "    def get_batch_labels(self, idx):\n",
        "        # Fetch a batch of labels\n",
        "        return np.array(self.labels[idx])\n",
        "\n",
        "    def get_batch_texts(self, idx):\n",
        "        # Fetch a batch of inputs\n",
        "        return self.texts[idx]\n",
        "\n",
        "    def __getitem__(self, idx):\n",
        "        batch_texts = self.get_batch_texts(idx)\n",
        "        batch_y = self.get_batch_labels(idx)\n",
        "\n",
        "        return batch_texts, batch_y"
      ]
    },
    {
      "cell_type": "code",
      "execution_count": 165,
      "metadata": {
        "id": "4Sfa_ONObaYv"
      },
      "outputs": [],
      "source": [
        "class BertClassifier(nn.Module):\n",
        "\n",
        "    def __init__(self, transformer, dropout=0.5, target=2):\n",
        "\n",
        "        super(BertClassifier, self).__init__()\n",
        "\n",
        "        self.transformer = transformer\n",
        "        self.dropout = nn.Dropout(dropout)\n",
        "        self.linear = nn.Linear(768, target)\n",
        "        self.relu = nn.ReLU()\n",
        "\n",
        "\n",
        "    def forward(self, input_id, mask):\n",
        "\n",
        "        _, pooled_output = self.transformer(input_ids=input_id, attention_mask=mask, return_dict=False)\n",
        "        dropout_output = self.dropout(pooled_output)\n",
        "        linear_output = self.linear(dropout_output)\n",
        "        final_layer = self.relu(linear_output)\n",
        "\n",
        "        return final_layer"
      ]
    },
    {
      "cell_type": "code",
      "execution_count": 166,
      "metadata": {
        "id": "wfE7iSu4b38V"
      },
      "outputs": [],
      "source": [
        "def train(model, train_data, val_data, learning_rate, epochs):\n",
        "\n",
        "    train, val = Dataset(train_data), Dataset(val_data)\n",
        "\n",
        "    train_dataloader = torch.utils.data.DataLoader(train, batch_size=2, shuffle=True)\n",
        "    val_dataloader = torch.utils.data.DataLoader(val, batch_size=2)\n",
        "\n",
        "    criterion = nn.CrossEntropyLoss()\n",
        "    optimizer = torch.optim.Adam(model.parameters(), lr= learning_rate)\n",
        "\n",
        "    if use_cuda:\n",
        "            model = model.cuda()\n",
        "            criterion = criterion.cuda()\n",
        "\n",
        "    for epoch_num in range(epochs):\n",
        "\n",
        "            total_acc_train = 0\n",
        "            total_loss_train = 0\n",
        "\n",
        "            for train_input, train_label in tqdm(train_dataloader):\n",
        "\n",
        "                train_label = train_label.to(device)\n",
        "                mask = train_input['attention_mask'].to(device)\n",
        "                input_id = train_input['input_ids'].squeeze(1).to(device)\n",
        "\n",
        "                output = model(input_id, mask)\n",
        "                \n",
        "                batch_loss = criterion(output, train_label.long())\n",
        "                total_loss_train += batch_loss.item()\n",
        "                \n",
        "                acc = (output.argmax(dim=1) == train_label).sum().item()\n",
        "                total_acc_train += acc\n",
        "\n",
        "                model.zero_grad()\n",
        "                batch_loss.backward()\n",
        "                optimizer.step()\n",
        "            \n",
        "            total_acc_val = 0\n",
        "            total_loss_val = 0\n",
        "\n",
        "            with torch.no_grad():\n",
        "\n",
        "                for val_input, val_label in val_dataloader:\n",
        "\n",
        "                    val_label = val_label.to(device)\n",
        "                    mask = val_input['attention_mask'].to(device)\n",
        "                    input_id = val_input['input_ids'].squeeze(1).to(device)\n",
        "\n",
        "                    output = model(input_id, mask)\n",
        "\n",
        "                    batch_loss = criterion(output, val_label.long())\n",
        "                    total_loss_val += batch_loss.item()\n",
        "                    \n",
        "                    acc = (output.argmax(dim=1) == val_label).sum().item()\n",
        "                    total_acc_val += acc\n",
        "            \n",
        "            print(\n",
        "                f'Epochs: {epoch_num + 1} | Train Loss: {total_loss_train / len(train_data): .3f} | Train Accuracy: {total_acc_train / len(train_data): .3f} | Val Loss: {total_loss_val / len(val_data): .3f} | Val Accuracy: {total_acc_val / len(val_data): .3f}')\n",
        "                  "
      ]
    },
    {
      "cell_type": "code",
      "execution_count": 188,
      "metadata": {
        "colab": {
          "base_uri": "https://localhost:8080/"
        },
        "id": "hNQ-ar9fL2NE",
        "outputId": "a8c601b3-926a-4c97-91f1-34a1b931b182"
      },
      "outputs": [
        {
          "name": "stderr",
          "output_type": "stream",
          "text": [
            "Some weights of the model checkpoint at bert-base-cased were not used when initializing BertModel: ['cls.predictions.transform.LayerNorm.weight', 'cls.seq_relationship.weight', 'cls.predictions.transform.LayerNorm.bias', 'cls.predictions.transform.dense.weight', 'cls.predictions.decoder.weight', 'cls.predictions.transform.dense.bias', 'cls.predictions.bias', 'cls.seq_relationship.bias']\n",
            "- This IS expected if you are initializing BertModel from the checkpoint of a model trained on another task or with another architecture (e.g. initializing a BertForSequenceClassification model from a BertForPreTraining model).\n",
            "- This IS NOT expected if you are initializing BertModel from the checkpoint of a model that you expect to be exactly identical (initializing a BertForSequenceClassification model from a BertForSequenceClassification model).\n"
          ]
        }
      ],
      "source": [
        "def get_transformer(model_name: ModelName):\n",
        "  if model_name==ModelName.BERT:\n",
        "    if language_name==Language.ENGLISH:\n",
        "      return BertModel.from_pretrained(\"bert-base-cased\")\n",
        "    else:\n",
        "      return BertModel.from_pretrained(\"bert-base-multilingual-cased\")\n",
        "  if model_name==ModelName.BERTWEET:\n",
        "    return AutoModel.from_pretrained(\"vinai/bertweet-base\")\n",
        "  if model_name==ModelName.ROBERTA:\n",
        "    return RobertaModel.from_pretrained(\"roberta-base\")\n",
        "\n",
        "transformer=get_transformer(model_name)"
      ]
    },
    {
      "cell_type": "code",
      "execution_count": 168,
      "metadata": {
        "id": "H_iyt63hMTPr"
      },
      "outputs": [],
      "source": [
        "def count_parameters(model):\n",
        "  return sum(p.numel() for p in model.parameters() if p.requires_grad)"
      ]
    },
    {
      "cell_type": "code",
      "execution_count": 169,
      "metadata": {
        "colab": {
          "base_uri": "https://localhost:8080/"
        },
        "id": "Kbhz-0OsL0uv",
        "outputId": "5d9cb4da-cd69-4ccb-8fcf-6093f5ac785d"
      },
      "outputs": [
        {
          "name": "stdout",
          "output_type": "stream",
          "text": [
            "The model has 108,311,810 trainable parameters\n"
          ]
        }
      ],
      "source": [
        "model_1A=BertClassifier(transformer)\n",
        "print(f'The model has {count_parameters(model_1A):,} trainable parameters')\n"
      ]
    },
    {
      "cell_type": "code",
      "execution_count": 195,
      "metadata": {
        "id": "OuUW6CT5TwJJ"
      },
      "outputs": [],
      "source": [
        "LR=1e-6 \n",
        "EPOCHS=15"
      ]
    },
    {
      "cell_type": "code",
      "execution_count": null,
      "metadata": {
        "colab": {
          "base_uri": "https://localhost:8080/"
        },
        "id": "AcOiT4WmMYYC",
        "outputId": "9bfcf0eb-7ad3-426f-ca30-663e49017b2b"
      },
      "outputs": [],
      "source": [
        "for name, param in model_1A.named_parameters():\n",
        "  if \"pooler\" in name or \"linear\" in name: \n",
        "    param.requires_grad = True\n",
        "  else:\n",
        "    param.requires_grad = False\n",
        "  print(name, param.shape, param.requires_grad)\n",
        "\n",
        "print(f'The model has {count_parameters(model_1A):,} trainable parameters')"
      ]
    },
    {
      "cell_type": "code",
      "execution_count": 172,
      "metadata": {
        "colab": {
          "base_uri": "https://localhost:8080/"
        },
        "id": "Yh2AEtQ02S40",
        "outputId": "9c29897b-3563-4536-aece-6bd8b3125003"
      },
      "outputs": [
        {
          "name": "stderr",
          "output_type": "stream",
          "text": [
            "100%|██████████| 1061/1061 [01:13<00:00, 14.37it/s]\n"
          ]
        },
        {
          "name": "stdout",
          "output_type": "stream",
          "text": [
            "Epochs: 1 | Train Loss:  0.288 | Train Accuracy:  0.766 | Val Loss:  0.276 | Val Accuracy:  0.769\n"
          ]
        },
        {
          "name": "stderr",
          "output_type": "stream",
          "text": [
            "100%|██████████| 1061/1061 [01:13<00:00, 14.41it/s]\n"
          ]
        },
        {
          "name": "stdout",
          "output_type": "stream",
          "text": [
            "Epochs: 2 | Train Loss:  0.268 | Train Accuracy:  0.786 | Val Loss:  0.282 | Val Accuracy:  0.769\n"
          ]
        },
        {
          "name": "stderr",
          "output_type": "stream",
          "text": [
            "100%|██████████| 1061/1061 [01:14<00:00, 14.24it/s]\n"
          ]
        },
        {
          "name": "stdout",
          "output_type": "stream",
          "text": [
            "Epochs: 3 | Train Loss:  0.268 | Train Accuracy:  0.790 | Val Loss:  0.268 | Val Accuracy:  0.774\n"
          ]
        },
        {
          "name": "stderr",
          "output_type": "stream",
          "text": [
            "100%|██████████| 1061/1061 [01:15<00:00, 14.10it/s]\n"
          ]
        },
        {
          "name": "stdout",
          "output_type": "stream",
          "text": [
            "Epochs: 4 | Train Loss:  0.259 | Train Accuracy:  0.788 | Val Loss:  0.273 | Val Accuracy:  0.774\n"
          ]
        },
        {
          "name": "stderr",
          "output_type": "stream",
          "text": [
            "100%|██████████| 1061/1061 [01:15<00:00, 14.05it/s]\n"
          ]
        },
        {
          "name": "stdout",
          "output_type": "stream",
          "text": [
            "Epochs: 5 | Train Loss:  0.262 | Train Accuracy:  0.788 | Val Loss:  0.271 | Val Accuracy:  0.774\n"
          ]
        }
      ],
      "source": [
        "# train(model_1A, df_train, df_valid, LR, EPOCHS)\n",
        "\n",
        "# torch.save(model_1A.state_dict(), f\"model_{lang}_{subtask}_{subtask_id}_{EPOCHS}_epochs.bin\")\n",
        " "
      ]
    },
    {
      "cell_type": "code",
      "execution_count": 173,
      "metadata": {
        "colab": {
          "base_uri": "https://localhost:8080/",
          "height": 206
        },
        "id": "RuCDcJO6pZJQ",
        "outputId": "1ea1a4a8-ca50-47dc-ec49-da498ed0e932"
      },
      "outputs": [
        {
          "data": {
            "text/html": [
              "\n",
              "  <div id=\"df-49883b0a-2d2b-437d-bc73-fff801873cde\">\n",
              "    <div class=\"colab-df-container\">\n",
              "      <div>\n",
              "<style scoped>\n",
              "    .dataframe tbody tr th:only-of-type {\n",
              "        vertical-align: middle;\n",
              "    }\n",
              "\n",
              "    .dataframe tbody tr th {\n",
              "        vertical-align: top;\n",
              "    }\n",
              "\n",
              "    .dataframe thead th {\n",
              "        text-align: right;\n",
              "    }\n",
              "</style>\n",
              "<table border=\"1\" class=\"dataframe\">\n",
              "  <thead>\n",
              "    <tr style=\"text-align: right;\">\n",
              "      <th></th>\n",
              "      <th>topic</th>\n",
              "      <th>tweet_id</th>\n",
              "      <th>tweet_url</th>\n",
              "      <th>tweet_text</th>\n",
              "    </tr>\n",
              "  </thead>\n",
              "  <tbody>\n",
              "    <tr>\n",
              "      <th>0</th>\n",
              "      <td>COVID-19</td>\n",
              "      <td>1425267281202909184</td>\n",
              "      <td>http://twitter.com/user/status/142526728120290...</td>\n",
              "      <td>i was a vaccine checker tonight at my venue an...</td>\n",
              "    </tr>\n",
              "    <tr>\n",
              "      <th>1</th>\n",
              "      <td>COVID-19</td>\n",
              "      <td>1387113304959504384</td>\n",
              "      <td>http://twitter.com/user/status/138711330495950...</td>\n",
              "      <td>I asked the nurse giving my vaccine if I could...</td>\n",
              "    </tr>\n",
              "    <tr>\n",
              "      <th>2</th>\n",
              "      <td>COVID-19</td>\n",
              "      <td>1379498353294069760</td>\n",
              "      <td>http://twitter.com/user/status/137949835329406...</td>\n",
              "      <td>When the polio vaccine dropped in 1955 people ...</td>\n",
              "    </tr>\n",
              "    <tr>\n",
              "      <th>3</th>\n",
              "      <td>COVID-19</td>\n",
              "      <td>1369843850223759362</td>\n",
              "      <td>http://twitter.com/user/status/136984385022375...</td>\n",
              "      <td>I asked my mom if she felt any side effects fr...</td>\n",
              "    </tr>\n",
              "    <tr>\n",
              "      <th>4</th>\n",
              "      <td>COVID-19</td>\n",
              "      <td>1352425395375759363</td>\n",
              "      <td>http://twitter.com/user/status/135242539537575...</td>\n",
              "      <td>A 6-year old ballet student asked me today if ...</td>\n",
              "    </tr>\n",
              "  </tbody>\n",
              "</table>\n",
              "</div>\n",
              "      <button class=\"colab-df-convert\" onclick=\"convertToInteractive('df-49883b0a-2d2b-437d-bc73-fff801873cde')\"\n",
              "              title=\"Convert this dataframe to an interactive table.\"\n",
              "              style=\"display:none;\">\n",
              "        \n",
              "  <svg xmlns=\"http://www.w3.org/2000/svg\" height=\"24px\"viewBox=\"0 0 24 24\"\n",
              "       width=\"24px\">\n",
              "    <path d=\"M0 0h24v24H0V0z\" fill=\"none\"/>\n",
              "    <path d=\"M18.56 5.44l.94 2.06.94-2.06 2.06-.94-2.06-.94-.94-2.06-.94 2.06-2.06.94zm-11 1L8.5 8.5l.94-2.06 2.06-.94-2.06-.94L8.5 2.5l-.94 2.06-2.06.94zm10 10l.94 2.06.94-2.06 2.06-.94-2.06-.94-.94-2.06-.94 2.06-2.06.94z\"/><path d=\"M17.41 7.96l-1.37-1.37c-.4-.4-.92-.59-1.43-.59-.52 0-1.04.2-1.43.59L10.3 9.45l-7.72 7.72c-.78.78-.78 2.05 0 2.83L4 21.41c.39.39.9.59 1.41.59.51 0 1.02-.2 1.41-.59l7.78-7.78 2.81-2.81c.8-.78.8-2.07 0-2.86zM5.41 20L4 18.59l7.72-7.72 1.47 1.35L5.41 20z\"/>\n",
              "  </svg>\n",
              "      </button>\n",
              "      \n",
              "  <style>\n",
              "    .colab-df-container {\n",
              "      display:flex;\n",
              "      flex-wrap:wrap;\n",
              "      gap: 12px;\n",
              "    }\n",
              "\n",
              "    .colab-df-convert {\n",
              "      background-color: #E8F0FE;\n",
              "      border: none;\n",
              "      border-radius: 50%;\n",
              "      cursor: pointer;\n",
              "      display: none;\n",
              "      fill: #1967D2;\n",
              "      height: 32px;\n",
              "      padding: 0 0 0 0;\n",
              "      width: 32px;\n",
              "    }\n",
              "\n",
              "    .colab-df-convert:hover {\n",
              "      background-color: #E2EBFA;\n",
              "      box-shadow: 0px 1px 2px rgba(60, 64, 67, 0.3), 0px 1px 3px 1px rgba(60, 64, 67, 0.15);\n",
              "      fill: #174EA6;\n",
              "    }\n",
              "\n",
              "    [theme=dark] .colab-df-convert {\n",
              "      background-color: #3B4455;\n",
              "      fill: #D2E3FC;\n",
              "    }\n",
              "\n",
              "    [theme=dark] .colab-df-convert:hover {\n",
              "      background-color: #434B5C;\n",
              "      box-shadow: 0px 1px 3px 1px rgba(0, 0, 0, 0.15);\n",
              "      filter: drop-shadow(0px 1px 2px rgba(0, 0, 0, 0.3));\n",
              "      fill: #FFFFFF;\n",
              "    }\n",
              "  </style>\n",
              "\n",
              "      <script>\n",
              "        const buttonEl =\n",
              "          document.querySelector('#df-49883b0a-2d2b-437d-bc73-fff801873cde button.colab-df-convert');\n",
              "        buttonEl.style.display =\n",
              "          google.colab.kernel.accessAllowed ? 'block' : 'none';\n",
              "\n",
              "        async function convertToInteractive(key) {\n",
              "          const element = document.querySelector('#df-49883b0a-2d2b-437d-bc73-fff801873cde');\n",
              "          const dataTable =\n",
              "            await google.colab.kernel.invokeFunction('convertToInteractive',\n",
              "                                                     [key], {});\n",
              "          if (!dataTable) return;\n",
              "\n",
              "          const docLinkHtml = 'Like what you see? Visit the ' +\n",
              "            '<a target=\"_blank\" href=https://colab.research.google.com/notebooks/data_table.ipynb>data table notebook</a>'\n",
              "            + ' to learn more about interactive tables.';\n",
              "          element.innerHTML = '';\n",
              "          dataTable['output_type'] = 'display_data';\n",
              "          await google.colab.output.renderOutput(dataTable, element);\n",
              "          const docLink = document.createElement('div');\n",
              "          docLink.innerHTML = docLinkHtml;\n",
              "          element.appendChild(docLink);\n",
              "        }\n",
              "      </script>\n",
              "    </div>\n",
              "  </div>\n",
              "  "
            ],
            "text/plain": [
              "      topic             tweet_id  \\\n",
              "0  COVID-19  1425267281202909184   \n",
              "1  COVID-19  1387113304959504384   \n",
              "2  COVID-19  1379498353294069760   \n",
              "3  COVID-19  1369843850223759362   \n",
              "4  COVID-19  1352425395375759363   \n",
              "\n",
              "                                           tweet_url  \\\n",
              "0  http://twitter.com/user/status/142526728120290...   \n",
              "1  http://twitter.com/user/status/138711330495950...   \n",
              "2  http://twitter.com/user/status/137949835329406...   \n",
              "3  http://twitter.com/user/status/136984385022375...   \n",
              "4  http://twitter.com/user/status/135242539537575...   \n",
              "\n",
              "                                          tweet_text  \n",
              "0  i was a vaccine checker tonight at my venue an...  \n",
              "1  I asked the nurse giving my vaccine if I could...  \n",
              "2  When the polio vaccine dropped in 1955 people ...  \n",
              "3  I asked my mom if she felt any side effects fr...  \n",
              "4  A 6-year old ballet student asked me today if ...  "
            ]
          },
          "execution_count": 173,
          "metadata": {},
          "output_type": "execute_result"
        }
      ],
      "source": [
        "df_test.head()\n"
      ]
    },
    {
      "cell_type": "markdown",
      "metadata": {
        "id": "CqHCbjmpl8kT"
      },
      "source": [
        "# Predicting\n",
        "Go through the test set one by one and predict the values. Write to an output file."
      ]
    },
    {
      "cell_type": "code",
      "execution_count": 174,
      "metadata": {
        "id": "dLI8lAglmUh6"
      },
      "outputs": [],
      "source": [
        "def predict(model, test_data, mapping=lambda x: x):\n",
        "\n",
        "    test_data['test_input'] = [tokenizer(text, padding='max_length', max_length=512, truncation=True,\n",
        "                                return_tensors=\"pt\") for text in test_data['tweet_text']]\n",
        "\n",
        "    model = model.to(device)\n",
        "\n",
        "    with torch.no_grad():\n",
        "        with open(results_fpath, \"w\") as results_file:\n",
        "          results_file.write(\"topic\\ttweet_id\\tclass_label\\trun_id\\n\") \n",
        "          for topic, tweet_id, _, _, test_input in test_data.values:\n",
        "\n",
        "                mask = test_input['attention_mask'].to(device)\n",
        "                input_id = test_input['input_ids'].squeeze(1).to(device)\n",
        "\n",
        "                output = model(input_id, mask).argmax(dim=1)[0].item()\n",
        "                results_file.write(f'{topic}\\t{tweet_id}\\t{mapping(output)}\\t{run_id}\\n')"
      ]
    },
    {
      "cell_type": "code",
      "execution_count": 175,
      "metadata": {
        "id": "LoqmQXSdKeO9"
      },
      "outputs": [],
      "source": [
        "# predict(model_1A, df_test)"
      ]
    },
    {
      "cell_type": "markdown",
      "metadata": {
        "id": "Kn2Xi8VwkENr"
      },
      "source": [
        "# Evaluation\n",
        "All of the code below is provided by the creators of CLEF for scoring."
      ]
    },
    {
      "cell_type": "code",
      "execution_count": 176,
      "metadata": {
        "id": "hOocXBNNh_EF"
      },
      "outputs": [],
      "source": [
        "from sklearn.metrics import f1_score\n",
        "from sklearn.metrics import accuracy_score\n",
        "from sklearn.metrics import recall_score\n",
        "from sklearn.metrics import precision_score\n",
        "\n",
        "import re\n",
        "_LINE_PATTERN_A = re.compile('^[1-9][0-9]{16,22}\\t([-+]?\\d*\\.\\d+|\\d+)$')\n",
        "\n",
        "def check_format(file_path):\n",
        "    with open(file_path, encoding='UTF-8') as out:\n",
        "        next(out)\n",
        "        file_content = out.read().strip()\n",
        "        for i, line in enumerate(file_content.split('\\n')):\n",
        "            topic_id, tweet_id, score, run_id = line.strip().split('\\t')\n",
        "\n",
        "            if not _LINE_PATTERN_A.match(\"%s\\t%s\"%(tweet_id, score)):\n",
        "                # 1. Check line format.\n",
        "                logging.error(f\"Wrong line format: {line}\")\n",
        "                return False\n",
        "            tweet_id = int(tweet_id)\n",
        "            score = float(score.strip())\n",
        "\n",
        "    return True\n",
        "\n",
        "\n",
        "import logging\n",
        "\n",
        "def _read_gold_and_pred(gold_fpath, pred_fpath):\n",
        "    \"\"\"\n",
        "    Read gold and predicted data.\n",
        "    :param gold_fpath: the original annotated gold file, where the last 4th column contains the labels.\n",
        "    :param pred_fpath: a file with line_number and score at each line.\n",
        "    :return: {line_number:label} dict; list with (line_number, score) tuples.\n",
        "    \"\"\"\n",
        "\n",
        "    logging.info(\"Reading gold labels from file {}\".format(gold_fpath))\n",
        "\n",
        "    gold_labels = {}\n",
        "    with open(gold_fpath, encoding='utf-8') as gold_f:\n",
        "        next(gold_f)\n",
        "        for line_res in gold_f:\n",
        "            (topic_id, tweet_id, tweet_url, tweet_text, check_worthiness) = line_res.strip().split('\\t')  # process the line from the res file\n",
        "            if topic_id == 'topic':\n",
        "                continue\n",
        "            label = check_worthiness\n",
        "            gold_labels[str(tweet_id)] = label\n",
        "\n",
        "    logging.info('Reading predicted labels from file {}'.format(pred_fpath))\n",
        "\n",
        "    line_score = []\n",
        "    # labels=[]\n",
        "    with open(pred_fpath) as pred_f:\n",
        "        next(pred_f)\n",
        "        for line in pred_f:\n",
        "            topic_id, tweet_id, score, run_id  = line.split('\\t')\n",
        "            tweet_id = str(tweet_id.strip())\n",
        "            # score = float(score.strip())\n",
        "            score = score.strip()\n",
        "\n",
        "            if tweet_id not in gold_labels:\n",
        "                logging.error('No such tweet_id: {} in gold file!'.format(tweet_id))\n",
        "                quit()\n",
        "            line_score.append((tweet_id, score))\n",
        "            # labels.append(score)\n",
        "\n",
        "\n",
        "    if len(set(gold_labels).difference([tup[0] for tup in line_score])) != 0:\n",
        "        logging.error('The predictions do not match the lines from the gold file - missing or extra line_no')\n",
        "        raise ValueError('The predictions do not match the lines from the gold file - missing or extra line_no')\n",
        "\n",
        "    return gold_labels, line_score\n",
        "\n",
        "def evaluate(gold_fpath, pred_fpath, subtask=\"checkworthy\"):\n",
        "    \"\"\"\n",
        "    Evaluates the predicted line rankings w.r.t. a gold file.\n",
        "    Metrics are: Average Precision, R-Pr, Reciprocal Rank, Precision@N\n",
        "    :param gold_fpath: the original annotated gold file, where the last 4th column contains the labels.\n",
        "    :param pred_fpath: a file with line_number at each line, where the list is ordered by check-worthiness.\n",
        "    :param thresholds: thresholds used for Reciprocal Rank@N and Precision@N.\n",
        "    If not specified - 1, 3, 5, 10, 20, 50, len(ranked_lines).\n",
        "    \"\"\"\n",
        "    gold_labels_dict, pred_labels_dict = _read_gold_and_pred(gold_fpath, pred_fpath)\n",
        "    gold_labels=[]\n",
        "    pred_labels=[]\n",
        "    for t_id, label in gold_labels_dict.items():\n",
        "        gold_labels.append(label)\n",
        "    for t_id, label in pred_labels_dict:\n",
        "        pred_labels.append(label)\n",
        "    # ranked_lines = [t[0] for t in sorted(line_score, key=lambda x: x[1], reverse=True)]\n",
        "    # if thresholds is None or len(thresholds) == 0:\n",
        "    #     thresholds = MAIN_THRESHOLDS + [len(ranked_lines)]\n",
        "\n",
        "    # Calculate Metrics\n",
        "    # precisions = _compute_precisions(gold_labels, ranked_lines, len(ranked_lines))\n",
        "    # precision = _compute_average_precision(gold_labels, pred_labels)\n",
        "    # reciprocal_rank = _compute_reciprocal_rank(gold_labels, ranked_lines)\n",
        "    # num_relevant = len({k for k, v in gold_labels.items() if v == 1})\n",
        "    if(subtask == \"checkworthy\" or subtask == \"harmful\"):\n",
        "        acc = accuracy_score(gold_labels, pred_labels)\n",
        "        precision = precision_score(gold_labels, pred_labels, pos_label='1',average='binary')\n",
        "        recall = recall_score(gold_labels, pred_labels, pos_label='1',average='binary')\n",
        "        f1=f1_score(gold_labels, pred_labels, pos_label='1',average='binary')\n",
        "    elif(subtask == \"attentionworthy\"):\n",
        "        acc = accuracy_score(gold_labels, pred_labels)\n",
        "        precision = precision_score(gold_labels, pred_labels, average = 'weighted')\n",
        "        recall = recall_score(gold_labels, pred_labels, average = 'weighted')\n",
        "        f1 = f1_score(gold_labels, pred_labels, average = 'weighted')\n",
        "    elif (subtask == \"claim\"):\n",
        "        acc=accuracy_score(gold_labels, pred_labels)\n",
        "        precision = precision_score(gold_labels, pred_labels, average = 'weighted')\n",
        "        recall = recall_score(gold_labels, pred_labels, average = 'weighted')\n",
        "        f1 = f1_score(gold_labels, pred_labels, average = 'weighted')\n",
        "\n",
        "    return acc, precision, recall, f1\n",
        "\n",
        "\n",
        "def validate_files(pred_file, subtask):\n",
        "    if not check_format(pred_file):\n",
        "        logging.error('Bad format for pred file {}. Cannot score.'.format(pred_file))\n",
        "        return False\n",
        "    return True\n",
        "\n",
        "line_separator = '=' * 120\n",
        "\n",
        "MAIN_THRESHOLDS = [1, 3, 5, 10, 20, 50]\n",
        "\n",
        "def score(pred_file, gold_file, subtask):\n",
        "  if validate_files(pred_file, subtask):\n",
        "    acc, precision, recall, f1 = evaluate(gold_file, pred_file, subtask=subtask)\n",
        "    print(\"acc: {}, P:{}, R:{}, F1:{}\".format(acc, precision, recall, f1))"
      ]
    },
    {
      "cell_type": "code",
      "execution_count": null,
      "metadata": {
        "id": "1WcLtcOsAgQy"
      },
      "outputs": [],
      "source": [
        "gold_file = f'/content/data/CT22_{lang}_{subtask_id}_{subtask}_test_gold.tsv'\n",
        "\n",
        "# score(results_fpath, gold_file, subtask)"
      ]
    },
    {
      "cell_type": "code",
      "execution_count": null,
      "metadata": {
        "colab": {
          "base_uri": "https://localhost:8080/"
        },
        "id": "0olg7lvBb5RB",
        "outputId": "f9e23662-0c35-485a-cae6-bbe375af8f9a"
      },
      "outputs": [
        {
          "name": "stderr",
          "output_type": "stream",
          "text": [
            "Some weights of the model checkpoint at vinai/bertweet-base were not used when initializing RobertaModel: ['lm_head.decoder.weight', 'lm_head.dense.bias', 'lm_head.decoder.bias', 'lm_head.layer_norm.bias', 'lm_head.layer_norm.weight', 'lm_head.dense.weight', 'lm_head.bias']\n",
            "- This IS expected if you are initializing RobertaModel from the checkpoint of a model trained on another task or with another architecture (e.g. initializing a BertForSequenceClassification model from a BertForPreTraining model).\n",
            "- This IS NOT expected if you are initializing RobertaModel from the checkpoint of a model that you expect to be exactly identical (initializing a BertForSequenceClassification model from a BertForSequenceClassification model).\n",
            "100%|██████████| 1061/1061 [01:36<00:00, 10.99it/s]\n"
          ]
        },
        {
          "name": "stdout",
          "output_type": "stream",
          "text": [
            "Epochs: 1 | Train Loss:  0.264 | Train Accuracy:  0.786 | Val Loss:  0.263 | Val Accuracy:  0.774\n"
          ]
        },
        {
          "name": "stderr",
          "output_type": "stream",
          "text": [
            "100%|██████████| 1061/1061 [01:38<00:00, 10.80it/s]\n"
          ]
        },
        {
          "name": "stdout",
          "output_type": "stream",
          "text": [
            "Epochs: 2 | Train Loss:  0.239 | Train Accuracy:  0.789 | Val Loss:  0.222 | Val Accuracy:  0.774\n"
          ]
        },
        {
          "name": "stderr",
          "output_type": "stream",
          "text": [
            "100%|██████████| 1061/1061 [01:37<00:00, 10.86it/s]\n"
          ]
        },
        {
          "name": "stdout",
          "output_type": "stream",
          "text": [
            "Epochs: 3 | Train Loss:  0.198 | Train Accuracy:  0.804 | Val Loss:  0.187 | Val Accuracy:  0.867\n"
          ]
        },
        {
          "name": "stderr",
          "output_type": "stream",
          "text": [
            "100%|██████████| 1061/1061 [01:37<00:00, 10.91it/s]\n"
          ]
        },
        {
          "name": "stdout",
          "output_type": "stream",
          "text": [
            "Epochs: 4 | Train Loss:  0.166 | Train Accuracy:  0.854 | Val Loss:  0.171 | Val Accuracy:  0.882\n"
          ]
        },
        {
          "name": "stderr",
          "output_type": "stream",
          "text": [
            "100%|██████████| 1061/1061 [01:37<00:00, 10.92it/s]\n"
          ]
        },
        {
          "name": "stdout",
          "output_type": "stream",
          "text": [
            "Epochs: 5 | Train Loss:  0.138 | Train Accuracy:  0.892 | Val Loss:  0.167 | Val Accuracy:  0.872\n",
            "acc: 0.6241610738255033, P:0.38028169014084506, R:0.6923076923076923, F1:0.49090909090909096\n"
          ]
        }
      ],
      "source": [
        "lang='english'\n",
        "subtask='checkworthy'\n",
        "subtask_id='1A'\n",
        "results_fpath=f'/content/data/subtask{subtask_id}_{subtask}_{lang}.tsv'\n",
        "\n",
        "df_train, df_valid, df_test = prepare_data(lang, subtask, subtask_id)\n",
        "\n",
        "transformer=get_transformer(model_name)\n",
        "model_1A = BertClassifier(transformer)\n",
        "              \n",
        "train(model_1A, df_train, df_valid, LR, EPOCHS)\n",
        "\n",
        "torch.save(model_1A.state_dict(), f\"model_{lang}_{subtask}_{subtask_id}_{EPOCHS}_epochs.bin\")\n",
        "\n",
        "predict(model_1A, df_test)\n",
        "\n",
        "gold_file = f'/content/data/CT22_{lang}_{subtask_id}_{subtask}_test_gold.tsv'\n",
        "\n",
        "score(results_fpath, gold_file, subtask)"
      ]
    },
    {
      "cell_type": "code",
      "execution_count": null,
      "metadata": {
        "id": "vBruPO2aLkP6"
      },
      "outputs": [],
      "source": [
        "lang='bulgarian'\n",
        "subtask='checkworthy'\n",
        "subtask_id='1A'\n",
        "results_fpath=f'/content/data/subtask{subtask_id}_{subtask}_{lang}.tsv'\n",
        "\n",
        "df_train, df_valid, df_test = prepare_data(lang, subtask, subtask_id)\n",
        "\n",
        "transformer=get_transformer(model_name)\n",
        "model_1A_bulgarian = BertClassifier(transformer)\n",
        "              \n",
        "train(model_1A_bulgarian, df_train, df_valid, LR, EPOCHS)\n",
        "\n",
        "torch.save(model_1A_bulgarian.state_dict(), f\"model_{lang}_{subtask}_{subtask_id}_{EPOCHS}_epochs.bin\")\n",
        "\n",
        "predict(model_1A_bulgarian, df_test)\n",
        "\n",
        "gold_file = f'/content/data/CT22_{lang}_{subtask_id}_{subtask}_test_gold.tsv'\n",
        "\n",
        "score(results_fpath, gold_file, subtask)"
      ]
    },
    {
      "cell_type": "markdown",
      "metadata": {
        "id": "3tOFFqtqZtHB"
      },
      "source": []
    },
    {
      "cell_type": "markdown",
      "metadata": {
        "id": "OPB693YaZtRa"
      },
      "source": []
    },
    {
      "cell_type": "markdown",
      "metadata": {
        "id": "N6Bqn_9kZtUO"
      },
      "source": []
    },
    {
      "cell_type": "markdown",
      "metadata": {
        "id": "J9947OJVZtWT"
      },
      "source": []
    },
    {
      "cell_type": "markdown",
      "metadata": {
        "id": "pNVCKBU4ZtYf"
      },
      "source": []
    },
    {
      "cell_type": "markdown",
      "metadata": {
        "id": "aIg6FOJXZtbW"
      },
      "source": []
    },
    {
      "cell_type": "markdown",
      "metadata": {
        "id": "M9v5anLAZtkK"
      },
      "source": []
    },
    {
      "cell_type": "markdown",
      "metadata": {
        "id": "yX06ovHiZtmc"
      },
      "source": []
    },
    {
      "cell_type": "markdown",
      "metadata": {
        "id": "2FN6lY9UZtpC"
      },
      "source": [
        "**Subtask 1B:** Verifiable factual claims detection: Given a tweet, predict whether it contains a verifiable factual claim. This is a binary task with two labels: Yes and No. This is a classification task. This subtasks runs in 5 languages:\n",
        "\n",
        "- Arabic\n",
        "- Bulgarian\n",
        "- Dutch\n",
        "- English\n",
        "- Turkish"
      ]
    },
    {
      "cell_type": "code",
      "execution_count": null,
      "metadata": {
        "colab": {
          "base_uri": "https://localhost:8080/"
        },
        "id": "tjKzHIvqJWQ7",
        "outputId": "ef3a5051-2d2b-43a5-86ef-d4115f3dae38"
      },
      "outputs": [
        {
          "name": "stderr",
          "output_type": "stream",
          "text": [
            "Some weights of the model checkpoint at bert-base-cased were not used when initializing BertModel: ['cls.predictions.transform.dense.bias', 'cls.predictions.bias', 'cls.seq_relationship.bias', 'cls.predictions.decoder.weight', 'cls.predictions.transform.LayerNorm.bias', 'cls.seq_relationship.weight', 'cls.predictions.transform.dense.weight', 'cls.predictions.transform.LayerNorm.weight']\n",
            "- This IS expected if you are initializing BertModel from the checkpoint of a model trained on another task or with another architecture (e.g. initializing a BertForSequenceClassification model from a BertForPreTraining model).\n",
            "- This IS NOT expected if you are initializing BertModel from the checkpoint of a model that you expect to be exactly identical (initializing a BertForSequenceClassification model from a BertForSequenceClassification model).\n",
            "100%|██████████| 1662/1662 [06:19<00:00,  4.38it/s]\n"
          ]
        },
        {
          "name": "stdout",
          "output_type": "stream",
          "text": [
            "Epochs: 1 | Train Loss:  0.336                 | Train Accuracy:  0.566                 | Val Loss:  0.319                 | Val Accuracy:  0.655\n"
          ]
        },
        {
          "name": "stderr",
          "output_type": "stream",
          "text": [
            "100%|██████████| 1662/1662 [06:20<00:00,  4.36it/s]\n"
          ]
        },
        {
          "name": "stdout",
          "output_type": "stream",
          "text": [
            "Epochs: 2 | Train Loss:  0.280                 | Train Accuracy:  0.720                 | Val Loss:  0.277                 | Val Accuracy:  0.736\n"
          ]
        },
        {
          "name": "stderr",
          "output_type": "stream",
          "text": [
            "100%|██████████| 1662/1662 [06:21<00:00,  4.36it/s]\n"
          ]
        },
        {
          "name": "stdout",
          "output_type": "stream",
          "text": [
            "Epochs: 3 | Train Loss:  0.230                 | Train Accuracy:  0.795                 | Val Loss:  0.250                 | Val Accuracy:  0.775\n"
          ]
        },
        {
          "name": "stderr",
          "output_type": "stream",
          "text": [
            "100%|██████████| 1662/1662 [06:21<00:00,  4.36it/s]\n"
          ]
        },
        {
          "name": "stdout",
          "output_type": "stream",
          "text": [
            "Epochs: 4 | Train Loss:  0.189                 | Train Accuracy:  0.845                 | Val Loss:  0.251                 | Val Accuracy:  0.775\n"
          ]
        },
        {
          "name": "stderr",
          "output_type": "stream",
          "text": [
            "100%|██████████| 1662/1662 [06:21<00:00,  4.36it/s]\n"
          ]
        },
        {
          "name": "stdout",
          "output_type": "stream",
          "text": [
            "Epochs: 5 | Train Loss:  0.148                 | Train Accuracy:  0.892                 | Val Loss:  0.278                 | Val Accuracy:  0.759\n"
          ]
        },
        {
          "name": "stderr",
          "output_type": "stream",
          "text": [
            "100%|██████████| 1662/1662 [06:21<00:00,  4.36it/s]\n"
          ]
        },
        {
          "name": "stdout",
          "output_type": "stream",
          "text": [
            "Epochs: 6 | Train Loss:  0.107                 | Train Accuracy:  0.932                 | Val Loss:  0.262                 | Val Accuracy:  0.775\n"
          ]
        },
        {
          "name": "stderr",
          "output_type": "stream",
          "text": [
            "100%|██████████| 1662/1662 [06:21<00:00,  4.36it/s]\n"
          ]
        },
        {
          "name": "stdout",
          "output_type": "stream",
          "text": [
            "Epochs: 7 | Train Loss:  0.072                 | Train Accuracy:  0.960                 | Val Loss:  0.302                 | Val Accuracy:  0.775\n"
          ]
        },
        {
          "name": "stderr",
          "output_type": "stream",
          "text": [
            "100%|██████████| 1662/1662 [06:21<00:00,  4.36it/s]\n"
          ]
        },
        {
          "name": "stdout",
          "output_type": "stream",
          "text": [
            "Epochs: 8 | Train Loss:  0.050                 | Train Accuracy:  0.977                 | Val Loss:  0.317                 | Val Accuracy:  0.743\n"
          ]
        },
        {
          "name": "stderr",
          "output_type": "stream",
          "text": [
            "100%|██████████| 1662/1662 [06:21<00:00,  4.36it/s]\n"
          ]
        },
        {
          "name": "stdout",
          "output_type": "stream",
          "text": [
            "Epochs: 9 | Train Loss:  0.038                 | Train Accuracy:  0.984                 | Val Loss:  0.345                 | Val Accuracy:  0.756\n"
          ]
        },
        {
          "name": "stderr",
          "output_type": "stream",
          "text": [
            "100%|██████████| 1662/1662 [06:21<00:00,  4.36it/s]\n"
          ]
        },
        {
          "name": "stdout",
          "output_type": "stream",
          "text": [
            "Epochs: 10 | Train Loss:  0.026                 | Train Accuracy:  0.988                 | Val Loss:  0.389                 | Val Accuracy:  0.769\n"
          ]
        },
        {
          "name": "stderr",
          "output_type": "stream",
          "text": [
            "100%|██████████| 1662/1662 [06:21<00:00,  4.36it/s]\n"
          ]
        },
        {
          "name": "stdout",
          "output_type": "stream",
          "text": [
            "Epochs: 11 | Train Loss:  0.020                 | Train Accuracy:  0.992                 | Val Loss:  0.393                 | Val Accuracy:  0.772\n"
          ]
        },
        {
          "name": "stderr",
          "output_type": "stream",
          "text": [
            "100%|██████████| 1662/1662 [06:20<00:00,  4.36it/s]\n"
          ]
        },
        {
          "name": "stdout",
          "output_type": "stream",
          "text": [
            "Epochs: 12 | Train Loss:  0.014                 | Train Accuracy:  0.993                 | Val Loss:  0.410                 | Val Accuracy:  0.759\n"
          ]
        },
        {
          "name": "stderr",
          "output_type": "stream",
          "text": [
            "100%|██████████| 1662/1662 [06:21<00:00,  4.36it/s]\n"
          ]
        },
        {
          "name": "stdout",
          "output_type": "stream",
          "text": [
            "Epochs: 13 | Train Loss:  0.016                 | Train Accuracy:  0.992                 | Val Loss:  0.386                 | Val Accuracy:  0.775\n"
          ]
        },
        {
          "name": "stderr",
          "output_type": "stream",
          "text": [
            "100%|██████████| 1662/1662 [06:21<00:00,  4.36it/s]\n"
          ]
        },
        {
          "name": "stdout",
          "output_type": "stream",
          "text": [
            "Epochs: 14 | Train Loss:  0.008                 | Train Accuracy:  0.995                 | Val Loss:  0.427                 | Val Accuracy:  0.775\n"
          ]
        },
        {
          "name": "stderr",
          "output_type": "stream",
          "text": [
            "100%|██████████| 1662/1662 [06:21<00:00,  4.36it/s]\n"
          ]
        },
        {
          "name": "stdout",
          "output_type": "stream",
          "text": [
            "Epochs: 15 | Train Loss:  0.006                 | Train Accuracy:  0.996                 | Val Loss:  0.457                 | Val Accuracy:  0.779\n",
            "acc: 0.7211155378486056, P:0.7190078396093048, R:0.7211155378486056, F1:0.7196421649923433\n"
          ]
        }
      ],
      "source": [
        "lang='english'\n",
        "subtask='claim'\n",
        "subtask_id='1B'\n",
        "results_fpath=f'/content/data/subtask{subtask_id}_{subtask}_{lang}.tsv'\n",
        "run_id='izarabadzh'\n",
        "\n",
        "df_train, df_valid, df_test = prepare_data(lang, subtask, subtask_id)\n",
        "\n",
        "transformer=get_transformer(model_name)\n",
        "model_1B = BertClassifier(transformer)\n",
        "              \n",
        "train(model_1B, df_train, df_valid, LR, EPOCHS)\n",
        "\n",
        "torch.save(model_1B.state_dict(), f\"model_{lang}_{subtask}_{subtask_id}_{EPOCHS}_epochs.bin\")\n",
        "\n",
        "predict(model_1B, df_test)\n",
        "\n",
        "gold_file = f'/content/data/CT22_english_{subtask_id}_{subtask}_test_gold.tsv'\n",
        "\n",
        "score(results_fpath, gold_file, subtask)"
      ]
    },
    {
      "cell_type": "markdown",
      "metadata": {
        "id": "BlnNtT3gLSxd"
      },
      "source": [
        "**Subtask 1C:** Harmful tweet detection : Given a tweet, predict whether it is harmful to the society and why. This task is defined with binary labels: Yes and No. This is a classification task. This subtasks runs in 5 languages:\n",
        "\n",
        "- Arabic\n",
        "- Bulgarian\n",
        "- Dutch\n",
        "- English\n",
        "- Turkish"
      ]
    },
    {
      "cell_type": "code",
      "execution_count": null,
      "metadata": {
        "colab": {
          "base_uri": "https://localhost:8080/"
        },
        "id": "37QQqnhLLgjV",
        "outputId": "45ee92eb-d95e-4972-86bb-d1f457fabec4"
      },
      "outputs": [
        {
          "name": "stderr",
          "output_type": "stream",
          "text": [
            "Some weights of the model checkpoint at vinai/bertweet-base were not used when initializing RobertaModel: ['lm_head.decoder.weight', 'lm_head.dense.bias', 'lm_head.decoder.bias', 'lm_head.layer_norm.bias', 'lm_head.layer_norm.weight', 'lm_head.dense.weight', 'lm_head.bias']\n",
            "- This IS expected if you are initializing RobertaModel from the checkpoint of a model trained on another task or with another architecture (e.g. initializing a BertForSequenceClassification model from a BertForPreTraining model).\n",
            "- This IS NOT expected if you are initializing RobertaModel from the checkpoint of a model that you expect to be exactly identical (initializing a BertForSequenceClassification model from a BertForSequenceClassification model).\n",
            "100%|██████████| 1662/1662 [02:32<00:00, 10.91it/s]\n"
          ]
        },
        {
          "name": "stdout",
          "output_type": "stream",
          "text": [
            "Epochs: 1 | Train Loss:  0.167 | Train Accuracy:  0.907 | Val Loss:  0.158 | Val Accuracy:  0.899\n"
          ]
        },
        {
          "name": "stderr",
          "output_type": "stream",
          "text": [
            "100%|██████████| 1662/1662 [02:32<00:00, 10.92it/s]\n"
          ]
        },
        {
          "name": "stdout",
          "output_type": "stream",
          "text": [
            "Epochs: 2 | Train Loss:  0.134 | Train Accuracy:  0.912 | Val Loss:  0.125 | Val Accuracy:  0.899\n"
          ]
        },
        {
          "name": "stderr",
          "output_type": "stream",
          "text": [
            "100%|██████████| 1662/1662 [02:32<00:00, 10.92it/s]\n"
          ]
        },
        {
          "name": "stdout",
          "output_type": "stream",
          "text": [
            "Epochs: 3 | Train Loss:  0.106 | Train Accuracy:  0.913 | Val Loss:  0.111 | Val Accuracy:  0.899\n"
          ]
        },
        {
          "name": "stderr",
          "output_type": "stream",
          "text": [
            "100%|██████████| 1662/1662 [02:31<00:00, 10.95it/s]\n"
          ]
        },
        {
          "name": "stdout",
          "output_type": "stream",
          "text": [
            "Epochs: 4 | Train Loss:  0.087 | Train Accuracy:  0.929 | Val Loss:  0.110 | Val Accuracy:  0.909\n"
          ]
        },
        {
          "name": "stderr",
          "output_type": "stream",
          "text": [
            "100%|██████████| 1662/1662 [02:31<00:00, 10.95it/s]\n"
          ]
        },
        {
          "name": "stdout",
          "output_type": "stream",
          "text": [
            "Epochs: 5 | Train Loss:  0.068 | Train Accuracy:  0.952 | Val Loss:  0.114 | Val Accuracy:  0.902\n"
          ]
        },
        {
          "name": "stderr",
          "output_type": "stream",
          "text": [
            "100%|██████████| 1662/1662 [02:31<00:00, 10.96it/s]\n"
          ]
        },
        {
          "name": "stdout",
          "output_type": "stream",
          "text": [
            "Epochs: 6 | Train Loss:  0.052 | Train Accuracy:  0.967 | Val Loss:  0.128 | Val Accuracy:  0.912\n"
          ]
        },
        {
          "name": "stderr",
          "output_type": "stream",
          "text": [
            "100%|██████████| 1662/1662 [02:31<00:00, 10.97it/s]\n"
          ]
        },
        {
          "name": "stdout",
          "output_type": "stream",
          "text": [
            "Epochs: 7 | Train Loss:  0.039 | Train Accuracy:  0.978 | Val Loss:  0.112 | Val Accuracy:  0.915\n"
          ]
        },
        {
          "name": "stderr",
          "output_type": "stream",
          "text": [
            "100%|██████████| 1662/1662 [02:31<00:00, 10.96it/s]\n"
          ]
        },
        {
          "name": "stdout",
          "output_type": "stream",
          "text": [
            "Epochs: 8 | Train Loss:  0.028 | Train Accuracy:  0.988 | Val Loss:  0.151 | Val Accuracy:  0.899\n"
          ]
        },
        {
          "name": "stderr",
          "output_type": "stream",
          "text": [
            "100%|██████████| 1662/1662 [02:31<00:00, 10.97it/s]\n"
          ]
        },
        {
          "name": "stdout",
          "output_type": "stream",
          "text": [
            "Epochs: 9 | Train Loss:  0.018 | Train Accuracy:  0.994 | Val Loss:  0.152 | Val Accuracy:  0.909\n"
          ]
        },
        {
          "name": "stderr",
          "output_type": "stream",
          "text": [
            "100%|██████████| 1662/1662 [02:31<00:00, 10.94it/s]\n"
          ]
        },
        {
          "name": "stdout",
          "output_type": "stream",
          "text": [
            "Epochs: 10 | Train Loss:  0.013 | Train Accuracy:  0.996 | Val Loss:  0.152 | Val Accuracy:  0.912\n",
            "acc: 0.7928286852589641, P:0.38, R:0.475, F1:0.4222222222222222\n"
          ]
        }
      ],
      "source": [
        "lang='english'\n",
        "subtask='harmful'\n",
        "subtask_id='1C'\n",
        "results_fpath=f'/content/data/subtask{subtask_id}_{subtask}_{lang}.tsv'\n",
        "\n",
        "df_train, df_valid, df_test = prepare_data(lang, subtask, subtask_id)\n",
        "\n",
        "transformer = get_transformer(model_name)\n",
        "model_1C = BertClassifier(transformer)\n",
        "              \n",
        "train(model_1C, df_train, df_valid, LR, EPOCHS)\n",
        "\n",
        "torch.save(model_1C.state_dict(), f\"model_{lang}_{subtask}_{subtask_id}_{EPOCHS}_epochs.bin\")\n",
        "\n",
        "predict(model_1C, df_test)\n",
        "\n",
        "gold_file = f'/content/data/CT22_{lang}_{subtask_id}_{subtask}_test_gold.tsv'\n",
        "\n",
        "score(results_fpath, gold_file, subtask)"
      ]
    },
    {
      "cell_type": "markdown",
      "metadata": {
        "id": "B7_1aRoBOC9d"
      },
      "source": [
        "**Subtask 1D:** Attention-worthy tweet detection: Given a tweet, predict whether it should get the attention of policy makers and why. This task is defined with nine class labels: (i) No, not interesting, (ii) Yes, asks question, (iii) Yes, blame authorities, (iv) Yes, calls for action, (v) Yes, classified as in harmful task, (vi) Yes, contains advice, (vii) Yes, discusses action taken, (viii) Yes, discusses cure, and (ix) Yes, other. This is a classification task. This subtasks runs in 5 languages:\n",
        "\n",
        "- Arabic\n",
        "- Bulgarian\n",
        "- Dutch\n",
        "- English\n",
        "- Turkish"
      ]
    },
    {
      "cell_type": "code",
      "execution_count": 179,
      "metadata": {
        "colab": {
          "base_uri": "https://localhost:8080/"
        },
        "id": "jmSXcwwY__oL",
        "outputId": "4bbf4a03-da8b-40b7-c077-299d336f01e7"
      },
      "outputs": [
        {
          "name": "stderr",
          "output_type": "stream",
          "text": [
            "Some weights of the model checkpoint at bert-base-cased were not used when initializing BertModel: ['cls.predictions.transform.LayerNorm.weight', 'cls.seq_relationship.weight', 'cls.predictions.transform.LayerNorm.bias', 'cls.predictions.transform.dense.weight', 'cls.predictions.decoder.weight', 'cls.predictions.transform.dense.bias', 'cls.predictions.bias', 'cls.seq_relationship.bias']\n",
            "- This IS expected if you are initializing BertModel from the checkpoint of a model trained on another task or with another architecture (e.g. initializing a BertForSequenceClassification model from a BertForPreTraining model).\n",
            "- This IS NOT expected if you are initializing BertModel from the checkpoint of a model that you expect to be exactly identical (initializing a BertForSequenceClassification model from a BertForSequenceClassification model).\n",
            "100%|██████████| 1661/1661 [05:53<00:00,  4.70it/s]\n"
          ]
        },
        {
          "name": "stdout",
          "output_type": "stream",
          "text": [
            "Epochs: 1 | Train Loss:  0.442 | Train Accuracy:  0.806 | Val Loss:  0.294 | Val Accuracy:  0.873\n"
          ]
        },
        {
          "name": "stderr",
          "output_type": "stream",
          "text": [
            "100%|██████████| 1661/1661 [05:58<00:00,  4.63it/s]\n"
          ]
        },
        {
          "name": "stdout",
          "output_type": "stream",
          "text": [
            "Epochs: 2 | Train Loss:  0.328 | Train Accuracy:  0.859 | Val Loss:  0.285 | Val Accuracy:  0.873\n"
          ]
        },
        {
          "name": "stderr",
          "output_type": "stream",
          "text": [
            "100%|██████████| 1661/1661 [05:57<00:00,  4.65it/s]\n"
          ]
        },
        {
          "name": "stdout",
          "output_type": "stream",
          "text": [
            "Epochs: 3 | Train Loss:  0.297 | Train Accuracy:  0.859 | Val Loss:  0.297 | Val Accuracy:  0.873\n"
          ]
        },
        {
          "name": "stderr",
          "output_type": "stream",
          "text": [
            "100%|██████████| 1661/1661 [05:57<00:00,  4.65it/s]\n"
          ]
        },
        {
          "name": "stdout",
          "output_type": "stream",
          "text": [
            "Epochs: 4 | Train Loss:  0.264 | Train Accuracy:  0.859 | Val Loss:  0.256 | Val Accuracy:  0.873\n"
          ]
        },
        {
          "name": "stderr",
          "output_type": "stream",
          "text": [
            "100%|██████████| 1661/1661 [05:58<00:00,  4.64it/s]\n"
          ]
        },
        {
          "name": "stdout",
          "output_type": "stream",
          "text": [
            "Epochs: 5 | Train Loss:  0.235 | Train Accuracy:  0.865 | Val Loss:  0.262 | Val Accuracy:  0.853\n"
          ]
        },
        {
          "name": "stderr",
          "output_type": "stream",
          "text": [
            "ERROR:root:Wrong line format: COVID-19\t1333505660407963648\tno_not_interesting\tizarabadzh\n",
            "ERROR:root:Bad format for pred file /content/data/subtask1D_attentionworthy_english.tsv. Cannot score.\n"
          ]
        }
      ],
      "source": [
        "lang='english'\n",
        "subtask='attentionworthy'\n",
        "subtask_id='1D'\n",
        "results_fpath=f'/content/data/subtask{subtask_id}_{subtask}_{lang}.tsv'\n",
        "\n",
        "df_train, df_valid, df_test = prepare_data(lang, subtask, subtask_id)\n",
        "\n",
        "labels=encode_labels(df_train['label'])\n",
        "output_to_label=inverse_dict(labels)\n",
        "\n",
        "transformer = get_transformer(model_name)\n",
        "model_1D = BertClassifier(transformer, target=len(labels))\n",
        "              \n",
        "train(model_1D, df_train, df_valid, LR, EPOCHS)\n",
        "\n",
        "torch.save(model_1D.state_dict(), f\"model_{lang}_{subtask}_{subtask_id}_{EPOCHS}_epochs.bin\")\n",
        "\n",
        "predict(model_1D, df_test, lambda x: output_to_label[x])\n",
        "\n",
        "gold_file = f'/content/data/CT22_{lang}_{subtask_id}_{subtask}_test_gold.tsv'\n",
        "\n",
        "score(results_fpath, gold_file, subtask)"
      ]
    },
    {
      "cell_type": "code",
      "execution_count": null,
      "metadata": {
        "id": "2KuCOoRYFB6S"
      },
      "outputs": [],
      "source": [
        "!pip freeze > requirement.txt"
      ]
    }
  ],
  "metadata": {
    "accelerator": "GPU",
    "colab": {
      "authorship_tag": "ABX9TyMof0NWbCWxraBbW+AnvPK7",
      "collapsed_sections": [],
      "include_colab_link": true,
      "name": "CLEF2022Task1.ipynb",
      "provenance": []
    },
    "gpuClass": "standard",
    "kernelspec": {
      "display_name": "Python 3.8.10 64-bit",
      "language": "python",
      "name": "python3"
    },
    "language_info": {
      "name": "python",
      "version": "3.8.10"
    },
    "vscode": {
      "interpreter": {
        "hash": "31f2aee4e71d21fbe5cf8b01ff0e069b9275f58929596ceb00d14d90e3e16cd6"
      }
    }
  },
  "nbformat": 4,
  "nbformat_minor": 0
}
